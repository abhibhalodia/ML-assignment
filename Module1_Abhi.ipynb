{
 "cells": [
  {
   "cell_type": "code",
   "execution_count": null,
   "id": "375fbcbe",
   "metadata": {},
   "outputs": [],
   "source": [
    "# Q. 1 Write a python program to sum of the first n positive integers.\n",
    "\n",
    "num_1 = int(input())\n",
    "sum_num = 0\n",
    "for i in range(num_1 + 1):\n",
    "    sum_num += i\n",
    "print(sum_num)\n"
   ]
  },
  {
   "cell_type": "code",
   "execution_count": null,
   "id": "fc3a0d77",
   "metadata": {},
   "outputs": [],
   "source": [
    "# Q. 2 Write a Python program to count occurrences of a substring in a string.\n",
    "\n",
    "str_input = input()\n",
    "sub_str = input()\n",
    "\n",
    "a = str_input.count(sub_str)\n",
    "print(a)"
   ]
  },
  {
   "cell_type": "code",
   "execution_count": null,
   "id": "175015d0",
   "metadata": {},
   "outputs": [],
   "source": [
    "# Q. 3 Write a Python program to count the occurrences of each word in a given sentence.\n",
    "\n",
    "str_input = input()\n",
    "list_1 = str_input.split(' ')\n",
    "set_1 = set(list_1)\n",
    "\n",
    "for i in set_1:\n",
    "    print (i,str_input.count(i)) \n",
    "    "
   ]
  },
  {
   "cell_type": "code",
   "execution_count": null,
   "id": "88e442e8",
   "metadata": {},
   "outputs": [],
   "source": [
    "# Q. 4 Write a Python program to get a single string from two given strings, separated by a space and swap the first \n",
    "# two characters of each string.\n",
    "\n",
    "string_input = input()\n",
    "string_input1 = input()\n",
    "\n",
    "joint_string = ' '.join([string_input,string_input1])\n",
    "joint_string1 = string_input[::] + string_input1[::]\n",
    "print(joint_string)\n",
    "print(joint_string1)"
   ]
  },
  {
   "cell_type": "code",
   "execution_count": null,
   "id": "e1315720",
   "metadata": {},
   "outputs": [],
   "source": [
    "# Q. 5 Write a Python program to add 'ing' at the end of a given string (length should be at least 3). \n",
    "# If the given string already ends with 'ing' then add 'ly' instead If the string length of the given \n",
    "# string is less than 3, leave it unchanged \n",
    "\n",
    "string_input = input()\n",
    "string_lenth = len(string_input)\n",
    "string_add = 'ing'\n",
    "if len(string_input) > 3 :\n",
    "    if string_input.endswith('ing'):\n",
    "        new_string0 = string_input.replace('ing','iy')\n",
    "        print(new_string0)\n",
    "    else:\n",
    "        new_string = string_input[::] + 'ing'\n",
    "        print(new_string)"
   ]
  },
  {
   "cell_type": "code",
   "execution_count": null,
   "id": "041d4ce9",
   "metadata": {},
   "outputs": [],
   "source": [
    "# Q. 6 Write a Python program to find the first appearance of the substring 'not' and 'poor' from a given string, if \n",
    "# 'not' follows the 'poor', replace the whole 'not'...'poor' substring with 'good'. \n",
    "# Return the resulting string\n",
    "\n",
    "string_input = input()\n",
    "not_word = string_input.find('not')\n",
    "poor_word = string_input.find('poor')\n",
    "if not_word <poor_word :\n",
    "    new_string = string_input.replace(string_input[not_word:(poor_word+4)],'good')\n",
    "    print(new_string)"
   ]
  },
  {
   "cell_type": "code",
   "execution_count": null,
   "id": "7295d055",
   "metadata": {},
   "outputs": [],
   "source": [
    "# Q. 7 Program to find Greatest Common Divisor of two numbers.\n",
    "# For example, the GCD of 20 and 28 is 4 and GCD of 98 and 56 is 14.\n",
    "\n",
    "list1 = [2,3,4,5,6,7,8,9]\n",
    "lcm_list = []\n",
    "temp_x = 0\n",
    "temp_y = 0\n",
    "gcd_num =1 \n",
    "\n",
    "def number (x_number , y_number):\n",
    "    temp_x = x_number\n",
    "    temp_y = y_number\n",
    "    lcm_num = 1 \n",
    "    for x in list1 :\n",
    "        if temp_x == 1 and temp_y == 1:\n",
    "            break\n",
    "        for i in list1 :\n",
    "            if (temp_x % i) == 0 and (temp_y % i) == 0:\n",
    "                temp_x = temp_x /i\n",
    "                temp_y = temp_y /i\n",
    "                lcm_list.append(i)\n",
    "                break\n",
    "            if (temp_y % i) == 0 and (temp_x % i) != 0:\n",
    "                temp_y = temp_y /i\n",
    "                lcm_list.append(i)\n",
    "                break\n",
    "            if (temp_x % i) == 0  and (temp_y % i) != 0:\n",
    "                temp_x = temp_x /i\n",
    "                lcm_list.append(i)\n",
    "                break\n",
    "            if (temp_x % i) != 0  and (temp_y % i) != 0:\n",
    "                continue\n",
    "    lcm_list.append(temp_x)\n",
    "    lcm_list.append(temp_y)\n",
    "    \n",
    "    for j in lcm_list :\n",
    "        lcm_num *= j\n",
    "    \n",
    "    gcd_num =( x_number * y_number) / lcm_num\n",
    "    \n",
    "    return 'GCD', gcd_num \n",
    "    \n",
    "number(20,28)\n"
   ]
  },
  {
   "cell_type": "code",
   "execution_count": null,
   "id": "be95a3fa",
   "metadata": {},
   "outputs": [],
   "source": [
    "# Q. 8 Write a Python program to check whether a list contains a sublist.\n",
    "\n",
    "list_1 = [[1,2,3],[20,15,45],[89,87,7]]\n",
    "\n",
    "for i in list_1:\n",
    "    if (type(i)) == list :\n",
    "        print('sublist in a list')\n",
    "        break\n",
    "else:\n",
    "    print('no sub list in a list')"
   ]
  },
  {
   "cell_type": "code",
   "execution_count": null,
   "id": "5547fab1",
   "metadata": {},
   "outputs": [],
   "source": [
    "# Q. 9 Write a Python program to find the second smallest number in a list.\n",
    "\n",
    "list_1 = [11,21,10,11,21,10,30,32,23,32]\n",
    "set_1 = set(list_1)\n",
    "list_2 = list(set_1)\n",
    "list_2.sort()\n",
    "print(list_2[1])"
   ]
  },
  {
   "cell_type": "code",
   "execution_count": null,
   "id": "813a19bb",
   "metadata": {},
   "outputs": [],
   "source": [
    "# Q. 10 Write a Python program to get unique values from a list.\n",
    "\n",
    "list_1 = [10,20,10,11,12,52,20,10,60,87,45]\n",
    "new_list = []\n",
    "for i in list_1 :\n",
    "    if i not in new_list :\n",
    "        new_list.append(i)\n",
    "print(new_list)\n"
   ]
  },
  {
   "cell_type": "code",
   "execution_count": null,
   "id": "5e4ec45d",
   "metadata": {},
   "outputs": [],
   "source": [
    "# Q. 11 Write a Python program to unzip a list of tuples into individual lists.\n",
    "\n",
    "list_1 = [(12,12),(10,12),(14,52),(30,21)]\n",
    "\n",
    "for i in list_1 :\n",
    "    print([i])"
   ]
  },
  {
   "cell_type": "code",
   "execution_count": null,
   "id": "bd679261",
   "metadata": {},
   "outputs": [],
   "source": [
    "# Q. 12 Write a Python program to convert a list of tuples into a dictionary\n",
    "\n",
    "list_1 = [(12,12),(10,12),(14,52),(30,21)]\n",
    "d1 = dict(list_1)\n",
    "print(d1)"
   ]
  },
  {
   "cell_type": "code",
   "execution_count": null,
   "id": "ac9916ef",
   "metadata": {},
   "outputs": [],
   "source": [
    "# Q. 13 Write a Python program to sort a dictionary (ascending /descending) by value.\n",
    "\n",
    "dict_1 = {12: 12, 10: 12, 14: 52, 30: 21}\n",
    "\n",
    "sorted_dict_1 = sorted(dict_1.items(), key = lambda x: x[1])\n",
    "print(dict(sorted_dict_1))"
   ]
  },
  {
   "cell_type": "code",
   "execution_count": null,
   "id": "673ac023",
   "metadata": {},
   "outputs": [],
   "source": [
    "# Q. 14 Write a Python program to find the highest 3 values in a dictionary.\n",
    "\n",
    "dict_1 = {12: 12, 10: 12, 14: 52, 30: 21,12: 23,14:45,20: 48}\n",
    "\n",
    "list_1 = list(dict_1.values())\n",
    "list_1.sort()\n",
    "\n",
    "print(list_1[-1:-4:-1])\n",
    "\n"
   ]
  },
  {
   "cell_type": "code",
   "execution_count": null,
   "id": "e07a615a",
   "metadata": {},
   "outputs": [],
   "source": [
    "# Q. 15 Given a number n, write a python program to make and print the list of Fibonacci series up to n.\n",
    "# Input : n=7 \n",
    "# Hint : first 7 numbers in the series\n",
    "# Expected output : \n",
    "# First few Fibonacci numbers are 0, 1, 1, 2, 3, 5, 8, 13\n",
    "\n",
    "number_input = int(input())\n",
    "number_1 = 0\n",
    "number_2 = 1\n",
    "number_3 = 0\n",
    "for fibonacci_number in range(number_input) :\n",
    "    print(number_3,end=' ')\n",
    "    number_1 = number_2\n",
    "    number_2 = number_3\n",
    "    number_3 = number_1 + number_2"
   ]
  },
  {
   "cell_type": "code",
   "execution_count": null,
   "id": "ced2025b",
   "metadata": {},
   "outputs": [],
   "source": [
    "# Q. 16 Counting the frequencies in a list using a dictionary in Python.\n",
    "# Input : [1, 1, 1, 5, 5, 3, 1, 3, 3, 1,4, 4, 4, 2, 2, 2, 2]\n",
    "# Expected output : 1 : 5 , 2 : 4 , 3 : 3 , 4 : 3 , 5 : 2\n",
    "\n",
    "list_1 = [1, 1, 1, 5, 5, 3, 1, 3, 3, 1,4, 4, 4, 2, 2, 2, 2]\n",
    "set_1 = set(list_1)\n",
    "list_3 = list(set_1)\n",
    "dict_1 = {}\n",
    "list_2 = []\n",
    "  \n",
    "\n",
    "for i in list_3 :\n",
    "    list_2.append(list_1.count(i))\n",
    "print(list_2)\n",
    "\n",
    "for a in list_3:\n",
    "    for b in list_2:\n",
    "        dict_1.setdefault(a,b)\n",
    "print(dict_1) "
   ]
  },
  {
   "cell_type": "code",
   "execution_count": null,
   "id": "5a597331",
   "metadata": {},
   "outputs": [],
   "source": [
    "# Q. 17 Write a python program using function to find the sum of odd series and even series\n",
    "# Odd series: 12/ 1! + 32/ 3! + 52/ 5!+……n \n",
    "# Even series: 22/ 2! + 42/ 4! + 62/ 6!+……n\n",
    "\n",
    "def number(x):\n",
    "    a = 0\n",
    "    for i in range(12,x+1,20):\n",
    "        for j in range(1,x,2):\n",
    "            a += i/j\n",
    "    return a\n",
    "number(100)            \n"
   ]
  },
  {
   "cell_type": "code",
   "execution_count": null,
   "id": "a43dc86f",
   "metadata": {},
   "outputs": [],
   "source": [
    "# Q. 18. Python Program to Find Factorial of Number Using Recursion\n",
    "\n",
    "def number(x):\n",
    "    a = 1\n",
    "    if (x == 1) or (x == 0):\n",
    "        return 1  \n",
    "    else:\n",
    "        return (x*number(x-1))\n",
    "number(5)"
   ]
  },
  {
   "cell_type": "code",
   "execution_count": null,
   "id": "17d72214",
   "metadata": {},
   "outputs": [],
   "source": [
    "# Q. 19. Write a Python function that takes a list and returns a new list with unique elements of the first list.\n",
    "\n",
    "def list_1 (x):\n",
    "    new_list =[]\n",
    "    for i in x :\n",
    "        if i not in new_list :\n",
    "            new_list.append(i)\n",
    "    return (new_list)\n",
    "list_1([10,20,10,11,12,52,20,10,60,87,45])"
   ]
  },
  {
   "cell_type": "code",
   "execution_count": null,
   "id": "e339bceb",
   "metadata": {},
   "outputs": [],
   "source": [
    "# Q. 20. Mini project : \n",
    "# Problem Statement : Password Generator \n",
    "# Make a program to generate a strong password using the input given by the user. To generate a password, \n",
    "# randomly take some words from the user input and then include numbers, special characters and capital \n",
    "# letters to generate the password. Also, keep a check that password length is more than 8 characters. \n",
    "# Note: Include Exception handling wherever required. Also, make a ‘User’ class and store the details like user \n",
    "# id, name and password of each user as a tuple. "
   ]
  }
 ],
 "metadata": {
  "kernelspec": {
   "display_name": "Python 3 (ipykernel)",
   "language": "python",
   "name": "python3"
  },
  "language_info": {
   "codemirror_mode": {
    "name": "ipython",
    "version": 3
   },
   "file_extension": ".py",
   "mimetype": "text/x-python",
   "name": "python",
   "nbconvert_exporter": "python",
   "pygments_lexer": "ipython3",
   "version": "3.9.12"
  }
 },
 "nbformat": 4,
 "nbformat_minor": 5
}
